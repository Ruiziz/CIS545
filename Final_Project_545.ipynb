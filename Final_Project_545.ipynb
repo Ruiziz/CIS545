{
  "nbformat": 4,
  "nbformat_minor": 0,
  "metadata": {
    "celltoolbar": "Create Assignment",
    "colab": {
      "name": "Final Project 545",
      "provenance": [],
      "collapsed_sections": [],
      "machine_shape": "hm"
    },
    "kernelspec": {
      "name": "python3",
      "display_name": "Python 3"
    },
    "language_info": {
      "codemirror_mode": {
        "name": "ipython",
        "version": 3
      },
      "file_extension": ".py",
      "mimetype": "text/x-python",
      "name": "python",
      "nbconvert_exporter": "python",
      "pygments_lexer": "ipython3",
      "version": "3.7.3"
    },
    "accelerator": "GPU"
  },
  "cells": [
    {
      "cell_type": "markdown",
      "metadata": {
        "colab_type": "text",
        "id": "dkq9oiyfPQEr",
        "nbgrader": {
          "grade": false,
          "grade_id": "title",
          "locked": true,
          "schema_version": 3,
          "solution": false
        }
      },
      "source": [
        "# CIS 545 Final Project: Amazon Review Analysis and Classification\n",
        "\n"
      ]
    },
    {
      "cell_type": "markdown",
      "metadata": {
        "id": "IC4GF9zcUkOs",
        "colab_type": "text"
      },
      "source": [
        "In hw4, we have finished some data processing jobs (like PCA or TF-IDF scores) and also tried several models, such like Random Forest, t-SNE and k-means to predict the rating of the reviews. But all the results are not so satisfying. Therefore, in this project, we will continually did. some work to improve the accuracy of our model. To achieve this goal, this project would be divided into five main parts below (including the preparing section): \n",
        "\n",
        "0.   Preparing section: download the raw data and inherit somr required data from previous homework.\n",
        "\n",
        "1.   Hyperparameter Tunning for Random Forest: try to improve the modeling for choosing different value of parameters.\n",
        "\n",
        "2.   Try several frequently used model and see if the accuracy was improved.\n",
        "3.   Neural Network: in this part, we tried two ways: one simple NN and the other is LSTMs.\n",
        "\n",
        "\n",
        "4.   how date of the reviews will influence the prediction accuracy of models.\n",
        "\n"
      ]
    },
    {
      "cell_type": "code",
      "metadata": {
        "colab_type": "code",
        "id": "nB-65mi_PQEu",
        "colab": {}
      },
      "source": [
        "# install stuff\n",
        "%%capture\n",
        "!pip install -U gensim\n",
        "!pip install urllib2"
      ],
      "execution_count": 0,
      "outputs": []
    },
    {
      "cell_type": "markdown",
      "metadata": {
        "id": "S4LDqswUUjIA",
        "colab_type": "text"
      },
      "source": [
        "Make sure the following line prints the up-to-date version of `gensim`, which at time of releasing this homework was version 3.8.1. "
      ]
    },
    {
      "cell_type": "code",
      "metadata": {
        "colab_type": "code",
        "id": "XCZ2LpmRcSIX",
        "outputId": "1f146b29-70cb-4f74-83f2-c5061408f374",
        "colab": {
          "base_uri": "https://localhost:8080/",
          "height": 32
        }
      },
      "source": [
        "# check gensim version\n",
        "import gensim\n",
        "gensim.__version__"
      ],
      "execution_count": 0,
      "outputs": [
        {
          "output_type": "execute_result",
          "data": {
            "text/plain": [
              "'3.8.1'"
            ]
          },
          "metadata": {
            "tags": []
          },
          "execution_count": 2
        }
      ]
    },
    {
      "cell_type": "code",
      "metadata": {
        "colab_type": "code",
        "id": "Ngg1pmoZPQE4",
        "colab": {}
      },
      "source": [
        "# import stuff\n",
        "import numpy as np\n",
        "import pandas as pd\n",
        "import matplotlib.pyplot as plt\n",
        "import matplotlib.cm as cm\n",
        "\n",
        "from gensim import corpora\n",
        "from gensim.models import LsiModel, KeyedVectors\n",
        "from gensim.models.tfidfmodel import TfidfModel\n",
        "from gensim.models.nmf import Nmf\n",
        "\n",
        "import sklearn.model_selection as ms\n",
        "from sklearn.ensemble import RandomForestClassifier\n",
        "from sklearn.cluster import KMeans\n",
        "from sklearn.manifold import TSNE\n",
        "\n",
        "from datetime import *\n",
        "from operator import itemgetter\n"
      ],
      "execution_count": 0,
      "outputs": []
    },
    {
      "cell_type": "code",
      "metadata": {
        "id": "79R84xo4FESL",
        "colab_type": "code",
        "colab": {}
      },
      "source": [
        "%%capture\n",
        "!wget https://cis.upenn.edu/~cis545/data/reviews.dict\n",
        "!wget https://cis.upenn.edu/~cis545/data/train_reviews.mm\n",
        "!wget https://cis.upenn.edu/~cis545/data/train_times.npy"
      ],
      "execution_count": 0,
      "outputs": []
    },
    {
      "cell_type": "code",
      "metadata": {
        "colab_type": "code",
        "id": "vBLPPKcePQE9",
        "colab": {}
      },
      "source": [
        "# get the raw dataset\n",
        "reviews_dict = corpora.Dictionary.load(\"reviews.dict\")\n",
        "reviews_bow = corpora.MmCorpus('train_reviews.mm')\n",
        "reviews_times  = np.load('train_times.npy')\n",
        "reviews_times.shape = (len(reviews_bow),1)\n",
        "y = np.vstack((np.repeat(1, 4000), np.repeat(2, 4000), np.repeat(3, 4000), np.repeat(4, 4000), np.repeat(5, 4000))) # 4000 * 5 ndarray\n",
        "y = np.repeat(y, 5) # (4000 * 5 * 5) * 1 (1D-ndarray)"
      ],
      "execution_count": 0,
      "outputs": []
    },
    {
      "cell_type": "markdown",
      "metadata": {
        "id": "g1KvapatWrcY",
        "colab_type": "text"
      },
      "source": [
        "###Step 0: inherit the required data from hw4"
      ]
    },
    {
      "cell_type": "markdown",
      "metadata": {
        "id": "zIPfJkDoXArc",
        "colab_type": "text"
      },
      "source": [
        "### step 0.0: load the required function from hw4\n",
        "\n",
        "##### step: 0.0.1: functions for processing the text contents"
      ]
    },
    {
      "cell_type": "code",
      "metadata": {
        "colab_type": "code",
        "id": "-s5GeN5SKq2o",
        "nbgrader": {
          "grade": false,
          "grade_id": "answer-0-2",
          "locked": false,
          "schema_version": 3,
          "solution": true,
          "task": false
        },
        "colab": {}
      },
      "source": [
        "# functions about reviews\n",
        "\n",
        "def lookup_docs(corpus, indices):\n",
        "  idx = 0\n",
        "  new_corpus = []\n",
        "  for doc in corpus:\n",
        "      if (idx in indices):\n",
        "        new_corpus.append(doc)\n",
        "      idx += 1\n",
        "  return new_corpus\n",
        "\n",
        "\n",
        "def translate_review(review, reviews_dict):\n",
        "    Line = \"\"\n",
        "    for (idx, times) in review:\n",
        "      for i in range(int(times)):\n",
        "        Line += reviews_dict.get(idx, \"\") + \" \"\n",
        "    return Line\n"
      ],
      "execution_count": 0,
      "outputs": []
    },
    {
      "cell_type": "markdown",
      "metadata": {
        "id": "97KRQ8nkgyty",
        "colab_type": "text"
      },
      "source": [
        "#### step: 0.0.2: functions for processing date datasets"
      ]
    },
    {
      "cell_type": "code",
      "metadata": {
        "colab_type": "code",
        "id": "2AvvxOpjPQG9",
        "nbgrader": {
          "grade": false,
          "grade_id": "answer-0-4-1",
          "locked": false,
          "schema_version": 3,
          "solution": true
        },
        "colab": {}
      },
      "source": [
        "# functions about reviews' time\n",
        "\n",
        "def convert_times(reviews_times):\n",
        "  # return reviews_times\n",
        "  date_series = pd.Series([])\n",
        "  for time in reviews_times:\n",
        "    date = datetime.fromtimestamp(time)\n",
        "    date_series = date_series.append(pd.Series(date), ignore_index = True)\n",
        "  return date_series\n",
        "\n",
        "\n",
        "def days_before(time_item, offset):\n",
        "  from datetime import timedelta\n",
        "  time_sub = timedelta(days = offset)\n",
        "  before_date = time_item - time_sub\n",
        "  return before_date\n",
        "    "
      ],
      "execution_count": 0,
      "outputs": []
    },
    {
      "cell_type": "markdown",
      "metadata": {
        "id": "z6BnapzzhMQC",
        "colab_type": "text"
      },
      "source": [
        "#### step: 0.0.3: functions for converting and representing data "
      ]
    },
    {
      "cell_type": "code",
      "metadata": {
        "colab_type": "code",
        "id": "dhlmCiiTzgph",
        "nbgrader": {
          "grade": false,
          "grade_id": "answer-1-2",
          "locked": false,
          "schema_version": 3,
          "solution": true,
          "task": false
        },
        "colab": {}
      },
      "source": [
        "# function to transfer raw input data to tfidf score\n",
        "def make_tfidf(reviews_bow):\n",
        "  \n",
        "    # initialize and fit a TF-IDF model to reviews_bow.\n",
        "    model = gensim.models.tfidfmodel.TfidfModel(corpus=reviews_bow, id2word=None, dictionary=None,                             \n",
        "                                                      normalize=True, smartirs=None, pivot=None, slope=0.25)\n",
        "    # apply TF-IDF model to reviews_bow to transform it\n",
        "    output = model[reviews_bow] #横轴是词出现的频率，纵轴是单词个数，一直在压缩横轴\n",
        "    return output\n",
        "\n",
        "# function for densifing\n",
        "def densify(sparse, columns):\n",
        "\n",
        "    array = np.zeros((len(sparse), columns))\n",
        "    row = 0\n",
        "    for line in sparse:\n",
        "      for(idx, times) in line:\n",
        "        array[row][idx] = times\n",
        "      row += 1\n",
        "    return array\n",
        "\n"
      ],
      "execution_count": 0,
      "outputs": []
    },
    {
      "cell_type": "markdown",
      "metadata": {
        "id": "UPwEvJAht4tO",
        "colab_type": "text"
      },
      "source": [
        "### step 0.1: convert the data to expected format\n",
        "\n",
        "#### step 0.1.1: convert the raw data to tf-idf scores"
      ]
    },
    {
      "cell_type": "code",
      "metadata": {
        "colab_type": "code",
        "id": "vFNBR3JTZDYs",
        "nbgrader": {
          "grade": true,
          "grade_id": "visible-test-1-2",
          "locked": true,
          "points": 1,
          "schema_version": 3,
          "solution": false,
          "task": false
        },
        "colab": {}
      },
      "source": [
        "reviews_tfidf = make_tfidf(reviews_bow)"
      ],
      "execution_count": 0,
      "outputs": []
    },
    {
      "cell_type": "markdown",
      "metadata": {
        "id": "uu6sSJLzGsVH",
        "colab_type": "text"
      },
      "source": [
        "\n",
        "\n",
        "#### step 0.1.2: reduce the dimensions of data to 40-dimensions \n"
      ]
    },
    {
      "cell_type": "code",
      "metadata": {
        "id": "yI23DVA-qVxB",
        "colab_type": "code",
        "colab": {}
      },
      "source": [
        "cutoff = 40\n",
        "np.random.seed(1911)\n",
        "model = LsiModel(reviews_tfidf, id2word = reviews_dict, num_topics = cutoff)\n",
        "V = model[reviews_tfidf]\n",
        "X = densify(V, cutoff)\n",
        " "
      ],
      "execution_count": 0,
      "outputs": []
    },
    {
      "cell_type": "markdown",
      "metadata": {
        "id": "ETk4AHFMgRCF",
        "colab_type": "text"
      },
      "source": [
        "#### step 0.1.3: change the data format to a human readable form and combine the reviews and corresponding rates into a same dataframe."
      ]
    },
    {
      "cell_type": "code",
      "metadata": {
        "id": "QgkYmQTXa280",
        "colab_type": "code",
        "outputId": "bfa814e6-622f-49a2-fef8-76e4c1646c16",
        "colab": {
          "base_uri": "https://localhost:8080/",
          "height": 411
        }
      },
      "source": [
        "docs = lookup_docs(reviews_bow, range(len(reviews_bow)))\n",
        "readable_docs = []\n",
        "for doc in docs:\n",
        "  readable_doc = translate_review(doc, reviews_dict)\n",
        "  readable_docs.append(readable_doc)\n",
        "\n",
        "d_2w =  {\"Rate\": y, \"Text\" : readable_docs}\n",
        "df_2w = pd.DataFrame(d_2w)\n",
        "display(df_2w)\n"
      ],
      "execution_count": 0,
      "outputs": [
        {
          "output_type": "display_data",
          "data": {
            "text/html": [
              "<div>\n",
              "<style scoped>\n",
              "    .dataframe tbody tr th:only-of-type {\n",
              "        vertical-align: middle;\n",
              "    }\n",
              "\n",
              "    .dataframe tbody tr th {\n",
              "        vertical-align: top;\n",
              "    }\n",
              "\n",
              "    .dataframe thead th {\n",
              "        text-align: right;\n",
              "    }\n",
              "</style>\n",
              "<table border=\"1\" class=\"dataframe\">\n",
              "  <thead>\n",
              "    <tr style=\"text-align: right;\">\n",
              "      <th></th>\n",
              "      <th>Rate</th>\n",
              "      <th>Text</th>\n",
              "    </tr>\n",
              "  </thead>\n",
              "  <tbody>\n",
              "    <tr>\n",
              "      <th>0</th>\n",
              "      <td>1</td>\n",
              "      <td>abl aggress also apart apart aussi away ball b...</td>\n",
              "    </tr>\n",
              "    <tr>\n",
              "      <th>1</th>\n",
              "      <td>1</td>\n",
              "      <td>bark bark bark clean day dish dish dog dump fi...</td>\n",
              "    </tr>\n",
              "    <tr>\n",
              "      <th>2</th>\n",
              "      <td>1</td>\n",
              "      <td>better disappoint money think wast absorb abso...</td>\n",
              "    </tr>\n",
              "    <tr>\n",
              "      <th>3</th>\n",
              "      <td>1</td>\n",
              "      <td>just will full next one price add anyth bottl ...</td>\n",
              "    </tr>\n",
              "    <tr>\n",
              "      <th>4</th>\n",
              "      <td>1</td>\n",
              "      <td>left now either go goe light light nowher plu ...</td>\n",
              "    </tr>\n",
              "    <tr>\n",
              "      <th>...</th>\n",
              "      <td>...</td>\n",
              "      <td>...</td>\n",
              "    </tr>\n",
              "    <tr>\n",
              "      <th>99995</th>\n",
              "      <td>5</td>\n",
              "      <td>come tri will replac worth time work batteri m...</td>\n",
              "    </tr>\n",
              "    <tr>\n",
              "      <th>99996</th>\n",
              "      <td>5</td>\n",
              "      <td>great use water water water problem straight e...</td>\n",
              "    </tr>\n",
              "    <tr>\n",
              "      <th>99997</th>\n",
              "      <td>5</td>\n",
              "      <td>think one now go get around thing even small y...</td>\n",
              "    </tr>\n",
              "    <tr>\n",
              "      <th>99998</th>\n",
              "      <td>5</td>\n",
              "      <td>abl littl work still well product realli remai...</td>\n",
              "    </tr>\n",
              "    <tr>\n",
              "      <th>99999</th>\n",
              "      <td>5</td>\n",
              "      <td>better sinc use problem get top need help back...</td>\n",
              "    </tr>\n",
              "  </tbody>\n",
              "</table>\n",
              "<p>100000 rows × 2 columns</p>\n",
              "</div>"
            ],
            "text/plain": [
              "       Rate                                               Text\n",
              "0         1  abl aggress also apart apart aussi away ball b...\n",
              "1         1  bark bark bark clean day dish dish dog dump fi...\n",
              "2         1  better disappoint money think wast absorb abso...\n",
              "3         1  just will full next one price add anyth bottl ...\n",
              "4         1  left now either go goe light light nowher plu ...\n",
              "...     ...                                                ...\n",
              "99995     5  come tri will replac worth time work batteri m...\n",
              "99996     5  great use water water water problem straight e...\n",
              "99997     5  think one now go get around thing even small y...\n",
              "99998     5  abl littl work still well product realli remai...\n",
              "99999     5  better sinc use problem get top need help back...\n",
              "\n",
              "[100000 rows x 2 columns]"
            ]
          },
          "metadata": {
            "tags": []
          }
        }
      ]
    },
    {
      "cell_type": "markdown",
      "metadata": {
        "colab_type": "text",
        "id": "5Rn49PaMlY-M",
        "nbgrader": {
          "grade": false,
          "grade_id": "spec-3",
          "locked": true,
          "schema_version": 3,
          "solution": false
        }
      },
      "source": [
        "## Step 1: improve the performance of existed Ramdom Forest Model\n",
        "In hw4, we have got the review TF-IDF scores and the initialized a random forest with 70 estimators and 2-40 as range of cutoff values.  \n",
        "\n",
        "1.   We have tried the number between 2-40 as the cutoff value. In this part, we will try different cutoff values (larger than 40) and see if it will improve the accuracy efficiently. \n",
        "\n",
        "2.   In hw4, we have tried the number of estimators as 70, we will continually tried some other numbers below and see if these two parameters will cause large improvements of our model.\n",
        "\n",
        "\n",
        "\n",
        "\n",
        "\n"
      ]
    },
    {
      "cell_type": "markdown",
      "metadata": {
        "colab_type": "text",
        "id": "qAbvT5iqrCI8",
        "nbgrader": {
          "grade": false,
          "grade_id": "spec-3-1",
          "locked": true,
          "schema_version": 3,
          "solution": false,
          "task": false
        }
      },
      "source": [
        "### Step 1.1: inherit the required functions from hw4 and do a little edition.\n"
      ]
    },
    {
      "cell_type": "code",
      "metadata": {
        "colab_type": "code",
        "id": "acWFX8EsrCdM",
        "nbgrader": {
          "grade": false,
          "grade_id": "answer-3-1",
          "locked": false,
          "schema_version": 3,
          "solution": true,
          "task": false
        },
        "colab": {}
      },
      "source": [
        "# function for random forest to get accuracy\n",
        "from sklearn.metrics import accuracy_score\n",
        "def evaluate_model(X, review_times, y, estimators_num):\n",
        "    X = np.hstack((X, review_times))\n",
        "    X_train, X_test, y_train, y_test = ms.train_test_split(X, y, test_size=0.2, random_state = 1911)\n",
        "    rfor = RandomForestClassifier(n_estimators=estimators_num, random_state=1911)\n",
        " \n",
        "    rfor_model = rfor.fit(X_train, y_train)\n",
        "    y_pred = rfor_model.predict(X_test)\n",
        "    accuracy = accuracy_score(y_pred, y_test)\n",
        "    return accuracy\n",
        "\n",
        "\n",
        "# function to choose cutoff value\n",
        "def evaluate_cutoffs(X_orig, X_dict, X_times, y, cutoffs, estimators_num):\n",
        "    results = []\n",
        "    for cutoff in cutoffs:\n",
        "        np.random.seed(1911)\n",
        "        # train an IsiModel\n",
        "        model = LsiModel(X_orig, id2word=X_dict, num_topics=cutoff)\n",
        "        # compute the V matrix\n",
        "        V_S = model[X_orig]\n",
        "        # call densify\n",
        "        densify_X = densify(V_S, cutoff)\n",
        "        # compute the accuracy and add it to the list\n",
        "        accuracy = evaluate_model(densify_X, X_times, y, estimators_num)\n",
        "        results.append(accuracy)\n",
        "        print(\"Estimator number = \" + str(estimators_num) + \"(cutoff = \" + str(cutoff) + \"): \")   \n",
        "        print(accuracy)\n",
        "\n",
        "    return results\n",
        "\n",
        "\n",
        "\n"
      ],
      "execution_count": 0,
      "outputs": []
    },
    {
      "cell_type": "markdown",
      "metadata": {
        "colab_type": "text",
        "id": "n6Wrw13-SXbE",
        "nbgrader": {
          "grade": false,
          "grade_id": "spec-3-2-1",
          "locked": true,
          "schema_version": 3,
          "solution": false,
          "task": false
        }
      },
      "source": [
        "### step 1.2: Try different cutoff value\n",
        "From the homework assignment, we could find when the value of cutoff is within 10 ~ 40, the accuracy would be approximately 0.79.\n",
        "\n",
        "Therefore, concerning we have taken cutoff = 1000 in homework and find the result is not satisifying, here we choose estimator = 70 and add some others possible value (within 40 ~ 1000) of cutoff. "
      ]
    },
    {
      "cell_type": "code",
      "metadata": {
        "colab_type": "code",
        "id": "VDAI7SAWbD1K",
        "outputId": "9b032b8e-b2e3-4aca-d0c9-6e18107555e8",
        "colab": {
          "base_uri": "https://localhost:8080/",
          "height": 148
        }
      },
      "source": [
        "\n",
        "results = evaluate_cutoffs(reviews_tfidf, reviews_dict, reviews_times, y, [40, 70, 100, 200], 70)\n"
      ],
      "execution_count": 0,
      "outputs": [
        {
          "output_type": "stream",
          "text": [
            "Estimator number = 70(cutoff = 40): \n",
            "0.7939\n",
            "Estimator number = 70(cutoff = 70): \n",
            "0.7955\n",
            "Estimator number = 70(cutoff = 100): \n",
            "0.793\n",
            "Estimator number = 70(cutoff = 200): \n",
            "0.78945\n"
          ],
          "name": "stdout"
        }
      ]
    },
    {
      "cell_type": "markdown",
      "metadata": {
        "id": "_qBUjzTLTZom",
        "colab_type": "text"
      },
      "source": [
        "Unfortunately, there seems no improvements by changeing the cutoff values."
      ]
    },
    {
      "cell_type": "markdown",
      "metadata": {
        "id": "VKcCGiJrMKvQ",
        "colab_type": "text"
      },
      "source": [
        "### step 1.3: Try different value of the estimators' number\n",
        "From above results, we could find when cutoff is larger than 100, the accuracy will drop off. Also, there is no clearly increase between 40 and 70. In these result, values within 30 to 70 get relatively high results, so we still choose 40 as result and bring it into below processes. On this basis, we try to change the number of estimators and see what will happen."
      ]
    },
    {
      "cell_type": "code",
      "metadata": {
        "id": "_PDkFe3tLsY4",
        "colab_type": "code",
        "outputId": "53d31b54-991c-4752-d1d5-9e2fff1e0794",
        "colab": {
          "base_uri": "https://localhost:8080/",
          "height": 115
        }
      },
      "source": [
        "results = evaluate_cutoffs(reviews_tfidf, reviews_dict, reviews_times, y, [40], 100)\n",
        "results = evaluate_cutoffs(reviews_tfidf, reviews_dict, reviews_times, y, [40], 200)\n",
        "results = evaluate_cutoffs(reviews_tfidf, reviews_dict, reviews_times, y, [40], 300)"
      ],
      "execution_count": 0,
      "outputs": [
        {
          "output_type": "stream",
          "text": [
            "Estimator number = 100(cutoff = 40): \n",
            "0.7951\n",
            "Estimator number = 200(cutoff = 40): \n",
            "0.79845\n",
            "Estimator number = 300(cutoff = 40): \n",
            "0.79825\n"
          ],
          "name": "stdout"
        }
      ]
    },
    {
      "cell_type": "markdown",
      "metadata": {
        "id": "n01UO4AV6ZOc",
        "colab_type": "text"
      },
      "source": [
        "Considering the time consuming, we roughly try three values, 100, 500 and 1000. However, the accuracy only elevate a little. \n",
        "\n",
        "> Random forest uses bagging (picking a sample of observations rather than all of them) and random subspace method (picking a sample of features rather than all of them, in other words - attribute bagging) to grow a tree. If the number of observations is large, but the number of trees is too small, then some observations will be predicted only once or even not at all. If the number of predictors is large but the number of trees is too small, then some features can (theoretically) be missed in all subspaces used. Both cases results in the decrease of random forest predictive power. But the last is a rather extreme case, since the selection of subspace is performed at each node.\n",
        "\n",
        "In this problem, 70 has already been a reasonable value of this dataset and thus although we increase the number of estimators, the accuracy will not improve to more than 80%.\n",
        "\n",
        "\n",
        "\n",
        "\n"
      ]
    },
    {
      "cell_type": "markdown",
      "metadata": {
        "id": "CZjqSrxDYovi",
        "colab_type": "text"
      },
      "source": [
        "## Step 2: Try several frequently used models and compare their performances\n",
        "From this [paper](https://www.cs.cornell.edu/people/tj/publications/joachims_98a.pdf), we know, generally speaking, in a machine learning approach, it is recommended to test several models regardless of their theoretical performance, because their accuracy is dependent of the training dataset. True though, a couple of algorithms are generally preferred for text classification (SVM, Naive Bayes, multinomial regressions) for various reasons such as linear separation or curse of dimensionality (also see this [paper](https://www.cs.cornell.edu/people/tj/publications/joachims_98a.pdf)). Therefore, in this step, we will try several models to find if they will have better performance than the random forest model.\n",
        "\n",
        "\n",
        "\n"
      ]
    },
    {
      "cell_type": "markdown",
      "metadata": {
        "id": "mK0gtMb797Lt",
        "colab_type": "text"
      },
      "source": [
        "### step 2.1: functions for training, predicting, evaluating model"
      ]
    },
    {
      "cell_type": "code",
      "metadata": {
        "id": "XOD24yQhATPO",
        "colab_type": "code",
        "colab": {}
      },
      "source": [
        "from sklearn.metrics import accuracy_score\n",
        "from sklearn.naive_bayes import GaussianNB\n",
        "from sklearn.model_selection import train_test_split\n",
        "\n",
        "def train_classifier(clf, X_train, y_train):\n",
        "    ''' Fits a classifier to the training data. '''\n",
        "\n",
        "    clf.fit(X_train, y_train)\n",
        "\n",
        "    return clf\n",
        "\n",
        "\n",
        "    \n",
        "def predict_labels(clf, X_test, y_test):\n",
        "    ''' Makes predictions using a fit classifier based on roc_auc score. '''\n",
        "\n",
        "    y_pred = clf.predict(X_test)\n",
        "\n",
        "    return accuracy_score(y_test, y_pred)\n",
        "\n",
        "\n",
        "def train_predict(clf, X_train, y_train, X_test, y_test):\n",
        "    ''' Train and predict using a classifer based on acc score. '''\n",
        "    \n",
        "    # Train the classifier\n",
        "    train_classifier(clf, X_train, y_train)\n",
        "    \n",
        "    # Print the results of prediction for both training and testing\n",
        "    print (\"ACC score for training set: {:.4f}.\".format(predict_labels(clf, X_train, y_train)))\n",
        "    print (\"ACC score for test set: {:.4f}.\\n\".format(predict_labels(clf, X_test, y_test)))\n",
        "    \n"
      ],
      "execution_count": 0,
      "outputs": []
    },
    {
      "cell_type": "markdown",
      "metadata": {
        "id": "bGnJbiul9gXG",
        "colab_type": "text"
      },
      "source": [
        "### step 2.2: split the dataset into test and train data"
      ]
    },
    {
      "cell_type": "code",
      "metadata": {
        "id": "md_sj77TEUfN",
        "colab_type": "code",
        "colab": {}
      },
      "source": [
        "from sklearn.model_selection import train_test_split\n",
        "\n",
        "#split into testing and training sets\n",
        "X_train, X_test, y_train, y_test = train_test_split(X, y,  test_size=0.2)\n"
      ],
      "execution_count": 0,
      "outputs": []
    },
    {
      "cell_type": "markdown",
      "metadata": {
        "id": "9XjMA8vE9rzM",
        "colab_type": "text"
      },
      "source": [
        "### step 2.3: try 3 classifiers and get their corresponding accuracy"
      ]
    },
    {
      "cell_type": "code",
      "metadata": {
        "id": "xZO8DIXbRBz3",
        "colab_type": "code",
        "outputId": "8bb3a583-5025-4e14-9299-818673d87a6d",
        "colab": {
          "base_uri": "https://localhost:8080/",
          "height": 250
        }
      },
      "source": [
        "from sklearn.naive_bayes import GaussianNB\n",
        "from sklearn.ensemble import AdaBoostClassifier\n",
        "from sklearn.linear_model import LogisticRegression\n",
        "\n",
        "\n",
        "\n",
        "# Initialize the models using a random state were applicable.\n",
        "clf_lst = [GaussianNB(), \n",
        "            AdaBoostClassifier(), \n",
        "            LogisticRegression()\n",
        "          \n",
        "           ]\n",
        "for clf in clf_lst:\n",
        "  train_predict(clf, X_train, y_train, X_test, y_test)"
      ],
      "execution_count": 0,
      "outputs": [
        {
          "output_type": "stream",
          "text": [
            "ACC score for training set: 0.6421.\n",
            "ACC score for test set: 0.6423.\n",
            "\n",
            "ACC score for training set: 0.7318.\n",
            "ACC score for test set: 0.7256.\n",
            "\n"
          ],
          "name": "stdout"
        },
        {
          "output_type": "stream",
          "text": [
            "/usr/local/lib/python3.6/dist-packages/sklearn/linear_model/logistic.py:432: FutureWarning: Default solver will be changed to 'lbfgs' in 0.22. Specify a solver to silence this warning.\n",
            "  FutureWarning)\n",
            "/usr/local/lib/python3.6/dist-packages/sklearn/linear_model/logistic.py:469: FutureWarning: Default multi_class will be changed to 'auto' in 0.22. Specify the multi_class option to silence this warning.\n",
            "  \"this warning.\", FutureWarning)\n"
          ],
          "name": "stderr"
        },
        {
          "output_type": "stream",
          "text": [
            "ACC score for training set: 0.7863.\n",
            "ACC score for test set: 0.7833.\n",
            "\n"
          ],
          "name": "stdout"
        }
      ]
    },
    {
      "cell_type": "markdown",
      "metadata": {
        "id": "TaTC9Cs--LmX",
        "colab_type": "text"
      },
      "source": [
        "From the results above, we could find that these 3 models all didn't get better accuracies than the Random Forest. In next step, we will try Neural Network and see if that works well with text classification.\n",
        "\n",
        "\n"
      ]
    },
    {
      "cell_type": "markdown",
      "metadata": {
        "id": "oEnY6h-XYytJ",
        "colab_type": "text"
      },
      "source": [
        "## Step 3: Neural Network"
      ]
    },
    {
      "cell_type": "markdown",
      "metadata": {
        "id": "0THgX0Vw_i8d",
        "colab_type": "text"
      },
      "source": [
        "We have to admit, comparing with a good old algorithms, such as Naive ones, neural networks are much more like black boxs. We are hard to explain clearly what happen inside for every steps. However, recurrent neural networks, LSTM and GRU in particular, are widely used in many natural language processing applications such as classification and language modeling. \n",
        "\n",
        "Take LSTM (Long short-term memory) as an example, it is widely used in text classifictaion, especially [emotion detection](https://www.aclweb.org/anthology/E17-2017.pdf) and so on. Therefore, in this part, we will do two things as below:\n",
        "\n",
        "\n",
        "1.   Build a very simple NN model and see if it has better performance on test data than the models before. If works, which also means\n",
        "2.   Build a LSTM (lone short-term memory) to try to hit a much higher accuracy\n",
        "\n"
      ]
    },
    {
      "cell_type": "markdown",
      "metadata": {
        "id": "btKTslTwY6TU",
        "colab_type": "text"
      },
      "source": [
        "### Step 3.1: a simple NN model"
      ]
    },
    {
      "cell_type": "markdown",
      "metadata": {
        "id": "7jrPGiElXag2",
        "colab_type": "text"
      },
      "source": [
        "Build the neural network."
      ]
    },
    {
      "cell_type": "code",
      "metadata": {
        "id": "bVVs40kz29X0",
        "colab_type": "code",
        "outputId": "386a87f3-251d-4a93-f9c8-a5c782f927bc",
        "colab": {
          "base_uri": "https://localhost:8080/",
          "height": 164
        }
      },
      "source": [
        "from keras.models import Sequential\n",
        "from keras.layers import Conv2D, MaxPooling2D, AveragePooling2D\n",
        "from keras.layers import Dense, Activation, Dropout, Flatten\n",
        "\n",
        "# Initialize keras sequential model\n",
        "model = Sequential()\n",
        "\n",
        "# Now we will create the layers for the model and add them to the sequential model\n",
        "model.add(Dense(70, activation='relu'))\n",
        "model.add(Dense(210, activation='relu'))\n",
        "\n",
        "# Add the final fully connected layer with the softmax activation function\n",
        "model.add(Dense(5, activation='softmax'))\n",
        "\n",
        "model.compile(loss = 'categorical_crossentropy', optimizer= 'sgd', metrics=['accuracy'])"
      ],
      "execution_count": 0,
      "outputs": [
        {
          "output_type": "stream",
          "text": [
            "Using TensorFlow backend.\n"
          ],
          "name": "stderr"
        },
        {
          "output_type": "display_data",
          "data": {
            "text/html": [
              "<p style=\"color: red;\">\n",
              "The default version of TensorFlow in Colab will soon switch to TensorFlow 2.x.<br>\n",
              "We recommend you <a href=\"https://www.tensorflow.org/guide/migrate\" target=\"_blank\">upgrade</a> now \n",
              "or ensure your notebook will continue to use TensorFlow 1.x via the <code>%tensorflow_version 1.x</code> magic:\n",
              "<a href=\"https://colab.research.google.com/notebooks/tensorflow_version.ipynb\" target=\"_blank\">more info</a>.</p>\n"
            ],
            "text/plain": [
              "<IPython.core.display.HTML object>"
            ]
          },
          "metadata": {
            "tags": []
          }
        },
        {
          "output_type": "stream",
          "text": [
            "WARNING:tensorflow:From /usr/local/lib/python3.6/dist-packages/keras/backend/tensorflow_backend.py:66: The name tf.get_default_graph is deprecated. Please use tf.compat.v1.get_default_graph instead.\n",
            "\n",
            "WARNING:tensorflow:From /usr/local/lib/python3.6/dist-packages/keras/optimizers.py:793: The name tf.train.Optimizer is deprecated. Please use tf.compat.v1.train.Optimizer instead.\n",
            "\n"
          ],
          "name": "stdout"
        }
      ]
    },
    {
      "cell_type": "markdown",
      "metadata": {
        "id": "Zv9jmmmEXeuR",
        "colab_type": "text"
      },
      "source": [
        "Fit and Check the performance of this model."
      ]
    },
    {
      "cell_type": "code",
      "metadata": {
        "id": "Ih6_mB-QZEBz",
        "colab_type": "code",
        "outputId": "67e1b3f8-7d13-4314-c077-c7fa425be27b",
        "colab": {
          "base_uri": "https://localhost:8080/",
          "height": 1000
        }
      },
      "source": [
        "import pandas as pd\n",
        "y_5d = pd.get_dummies(y).as_matrix()\n",
        "\n",
        "# Fit the model to the training data and run the training for 20 epochs\n",
        "model.fit(X, y_5d, epochs=100)"
      ],
      "execution_count": 0,
      "outputs": [
        {
          "output_type": "stream",
          "text": [
            "WARNING:tensorflow:From /usr/local/lib/python3.6/dist-packages/keras/backend/tensorflow_backend.py:541: The name tf.placeholder is deprecated. Please use tf.compat.v1.placeholder instead.\n",
            "\n",
            "WARNING:tensorflow:From /usr/local/lib/python3.6/dist-packages/keras/backend/tensorflow_backend.py:4432: The name tf.random_uniform is deprecated. Please use tf.random.uniform instead.\n",
            "\n",
            "WARNING:tensorflow:From /usr/local/lib/python3.6/dist-packages/keras/backend/tensorflow_backend.py:3576: The name tf.log is deprecated. Please use tf.math.log instead.\n",
            "\n",
            "WARNING:tensorflow:From /usr/local/lib/python3.6/dist-packages/tensorflow_core/python/ops/math_grad.py:1424: where (from tensorflow.python.ops.array_ops) is deprecated and will be removed in a future version.\n",
            "Instructions for updating:\n",
            "Use tf.where in 2.0, which has the same broadcast rule as np.where\n"
          ],
          "name": "stdout"
        },
        {
          "output_type": "stream",
          "text": [
            "/usr/local/lib/python3.6/dist-packages/ipykernel_launcher.py:2: FutureWarning: Method .as_matrix will be removed in a future version. Use .values instead.\n",
            "  \n"
          ],
          "name": "stderr"
        },
        {
          "output_type": "stream",
          "text": [
            "WARNING:tensorflow:From /usr/local/lib/python3.6/dist-packages/keras/backend/tensorflow_backend.py:1033: The name tf.assign_add is deprecated. Please use tf.compat.v1.assign_add instead.\n",
            "\n",
            "WARNING:tensorflow:From /usr/local/lib/python3.6/dist-packages/keras/backend/tensorflow_backend.py:1020: The name tf.assign is deprecated. Please use tf.compat.v1.assign instead.\n",
            "\n",
            "WARNING:tensorflow:From /usr/local/lib/python3.6/dist-packages/keras/backend/tensorflow_backend.py:3005: The name tf.Session is deprecated. Please use tf.compat.v1.Session instead.\n",
            "\n",
            "Epoch 1/100\n",
            "WARNING:tensorflow:From /usr/local/lib/python3.6/dist-packages/keras/backend/tensorflow_backend.py:190: The name tf.get_default_session is deprecated. Please use tf.compat.v1.get_default_session instead.\n",
            "\n",
            "WARNING:tensorflow:From /usr/local/lib/python3.6/dist-packages/keras/backend/tensorflow_backend.py:197: The name tf.ConfigProto is deprecated. Please use tf.compat.v1.ConfigProto instead.\n",
            "\n",
            "WARNING:tensorflow:From /usr/local/lib/python3.6/dist-packages/keras/backend/tensorflow_backend.py:207: The name tf.global_variables is deprecated. Please use tf.compat.v1.global_variables instead.\n",
            "\n",
            "WARNING:tensorflow:From /usr/local/lib/python3.6/dist-packages/keras/backend/tensorflow_backend.py:216: The name tf.is_variable_initialized is deprecated. Please use tf.compat.v1.is_variable_initialized instead.\n",
            "\n",
            "WARNING:tensorflow:From /usr/local/lib/python3.6/dist-packages/keras/backend/tensorflow_backend.py:223: The name tf.variables_initializer is deprecated. Please use tf.compat.v1.variables_initializer instead.\n",
            "\n",
            "100000/100000 [==============================] - 15s 148us/step - loss: 1.5407 - acc: 0.5490\n",
            "Epoch 2/100\n",
            "100000/100000 [==============================] - 10s 99us/step - loss: 1.1615 - acc: 0.7223\n",
            "Epoch 3/100\n",
            "100000/100000 [==============================] - 10s 100us/step - loss: 0.7781 - acc: 0.7592\n",
            "Epoch 4/100\n",
            "100000/100000 [==============================] - 10s 100us/step - loss: 0.6605 - acc: 0.7746\n",
            "Epoch 5/100\n",
            "100000/100000 [==============================] - 10s 100us/step - loss: 0.6287 - acc: 0.7798\n",
            "Epoch 6/100\n",
            "100000/100000 [==============================] - 10s 99us/step - loss: 0.6153 - acc: 0.7842\n",
            "Epoch 7/100\n",
            "100000/100000 [==============================] - 10s 99us/step - loss: 0.6086 - acc: 0.7859\n",
            "Epoch 8/100\n",
            "100000/100000 [==============================] - 10s 97us/step - loss: 0.6040 - acc: 0.7876\n",
            "Epoch 9/100\n",
            "100000/100000 [==============================] - 10s 98us/step - loss: 0.6004 - acc: 0.7891\n",
            "Epoch 10/100\n",
            "100000/100000 [==============================] - 10s 99us/step - loss: 0.5974 - acc: 0.7887\n",
            "Epoch 11/100\n",
            "100000/100000 [==============================] - 10s 98us/step - loss: 0.5955 - acc: 0.7893\n",
            "Epoch 12/100\n",
            "100000/100000 [==============================] - 10s 95us/step - loss: 0.5930 - acc: 0.7919\n",
            "Epoch 13/100\n",
            "100000/100000 [==============================] - 10s 97us/step - loss: 0.5912 - acc: 0.7913\n",
            "Epoch 14/100\n",
            "100000/100000 [==============================] - 10s 97us/step - loss: 0.5894 - acc: 0.7918\n",
            "Epoch 15/100\n",
            "100000/100000 [==============================] - 10s 96us/step - loss: 0.5875 - acc: 0.7918\n",
            "Epoch 16/100\n",
            "100000/100000 [==============================] - 10s 97us/step - loss: 0.5866 - acc: 0.7933\n",
            "Epoch 17/100\n",
            "100000/100000 [==============================] - 10s 95us/step - loss: 0.5850 - acc: 0.7933\n",
            "Epoch 18/100\n",
            "100000/100000 [==============================] - 10s 96us/step - loss: 0.5837 - acc: 0.7934\n",
            "Epoch 19/100\n",
            "100000/100000 [==============================] - 9s 95us/step - loss: 0.5820 - acc: 0.7934\n",
            "Epoch 20/100\n",
            "100000/100000 [==============================] - 10s 97us/step - loss: 0.5810 - acc: 0.7942\n",
            "Epoch 21/100\n",
            "100000/100000 [==============================] - 9s 94us/step - loss: 0.5796 - acc: 0.7943\n",
            "Epoch 22/100\n",
            "100000/100000 [==============================] - 10s 96us/step - loss: 0.5781 - acc: 0.7965\n",
            "Epoch 23/100\n",
            "100000/100000 [==============================] - 10s 97us/step - loss: 0.5772 - acc: 0.7954\n",
            "Epoch 24/100\n",
            "100000/100000 [==============================] - 10s 97us/step - loss: 0.5755 - acc: 0.7960\n",
            "Epoch 25/100\n",
            "100000/100000 [==============================] - 10s 96us/step - loss: 0.5738 - acc: 0.7968\n",
            "Epoch 26/100\n",
            "100000/100000 [==============================] - 10s 96us/step - loss: 0.5728 - acc: 0.7971\n",
            "Epoch 27/100\n",
            "100000/100000 [==============================] - 9s 94us/step - loss: 0.5710 - acc: 0.7971\n",
            "Epoch 28/100\n",
            "100000/100000 [==============================] - 10s 102us/step - loss: 0.5702 - acc: 0.7984\n",
            "Epoch 29/100\n",
            "100000/100000 [==============================] - 10s 96us/step - loss: 0.5689 - acc: 0.7980\n",
            "Epoch 30/100\n",
            "100000/100000 [==============================] - 10s 97us/step - loss: 0.5673 - acc: 0.7995\n",
            "Epoch 31/100\n",
            "100000/100000 [==============================] - 10s 96us/step - loss: 0.5661 - acc: 0.7989\n",
            "Epoch 32/100\n",
            "100000/100000 [==============================] - 10s 95us/step - loss: 0.5645 - acc: 0.7997\n",
            "Epoch 33/100\n",
            "100000/100000 [==============================] - 9s 94us/step - loss: 0.5636 - acc: 0.8000\n",
            "Epoch 34/100\n",
            "100000/100000 [==============================] - 10s 95us/step - loss: 0.5623 - acc: 0.8009\n",
            "Epoch 35/100\n",
            "100000/100000 [==============================] - 10s 95us/step - loss: 0.5612 - acc: 0.8007\n",
            "Epoch 36/100\n",
            "100000/100000 [==============================] - 10s 97us/step - loss: 0.5598 - acc: 0.8005\n",
            "Epoch 37/100\n",
            "100000/100000 [==============================] - 10s 96us/step - loss: 0.5591 - acc: 0.8015\n",
            "Epoch 38/100\n",
            "100000/100000 [==============================] - 9s 94us/step - loss: 0.5579 - acc: 0.8023\n",
            "Epoch 39/100\n",
            "100000/100000 [==============================] - 10s 96us/step - loss: 0.5567 - acc: 0.8023\n",
            "Epoch 40/100\n",
            "100000/100000 [==============================] - 9s 94us/step - loss: 0.5558 - acc: 0.8021\n",
            "Epoch 41/100\n",
            "100000/100000 [==============================] - 9s 95us/step - loss: 0.5543 - acc: 0.8026\n",
            "Epoch 42/100\n",
            "100000/100000 [==============================] - 10s 96us/step - loss: 0.5536 - acc: 0.8041\n",
            "Epoch 43/100\n",
            "100000/100000 [==============================] - 9s 94us/step - loss: 0.5520 - acc: 0.8042\n",
            "Epoch 44/100\n",
            "100000/100000 [==============================] - 9s 94us/step - loss: 0.5509 - acc: 0.8038\n",
            "Epoch 45/100\n",
            "100000/100000 [==============================] - 9s 95us/step - loss: 0.5499 - acc: 0.8042\n",
            "Epoch 46/100\n",
            "100000/100000 [==============================] - 9s 94us/step - loss: 0.5487 - acc: 0.8040\n",
            "Epoch 47/100\n",
            "100000/100000 [==============================] - 9s 94us/step - loss: 0.5483 - acc: 0.8052\n",
            "Epoch 48/100\n",
            "100000/100000 [==============================] - 10s 95us/step - loss: 0.5475 - acc: 0.8048\n",
            "Epoch 49/100\n",
            "100000/100000 [==============================] - 9s 95us/step - loss: 0.5458 - acc: 0.8058\n",
            "Epoch 50/100\n",
            "100000/100000 [==============================] - 9s 94us/step - loss: 0.5451 - acc: 0.8057\n",
            "Epoch 51/100\n",
            "100000/100000 [==============================] - 10s 95us/step - loss: 0.5443 - acc: 0.8060\n",
            "Epoch 52/100\n",
            "100000/100000 [==============================] - 10s 96us/step - loss: 0.5433 - acc: 0.8060\n",
            "Epoch 53/100\n",
            "100000/100000 [==============================] - 9s 94us/step - loss: 0.5422 - acc: 0.8070\n",
            "Epoch 54/100\n",
            "100000/100000 [==============================] - 10s 96us/step - loss: 0.5413 - acc: 0.8072\n",
            "Epoch 55/100\n",
            "100000/100000 [==============================] - 9s 93us/step - loss: 0.5408 - acc: 0.8073\n",
            "Epoch 56/100\n",
            "100000/100000 [==============================] - 10s 96us/step - loss: 0.5398 - acc: 0.8076\n",
            "Epoch 57/100\n",
            "100000/100000 [==============================] - 9s 94us/step - loss: 0.5392 - acc: 0.8078\n",
            "Epoch 58/100\n",
            "100000/100000 [==============================] - 9s 95us/step - loss: 0.5384 - acc: 0.8081\n",
            "Epoch 59/100\n",
            "100000/100000 [==============================] - 9s 93us/step - loss: 0.5373 - acc: 0.8087\n",
            "Epoch 60/100\n",
            "100000/100000 [==============================] - 10s 98us/step - loss: 0.5367 - acc: 0.8090\n",
            "Epoch 61/100\n",
            "100000/100000 [==============================] - 10s 98us/step - loss: 0.5364 - acc: 0.8088\n",
            "Epoch 62/100\n",
            "100000/100000 [==============================] - 9s 95us/step - loss: 0.5350 - acc: 0.8088\n",
            "Epoch 63/100\n",
            "100000/100000 [==============================] - 10s 97us/step - loss: 0.5339 - acc: 0.8108\n",
            "Epoch 64/100\n",
            "100000/100000 [==============================] - 9s 95us/step - loss: 0.5333 - acc: 0.8097\n",
            "Epoch 65/100\n",
            "100000/100000 [==============================] - 10s 96us/step - loss: 0.5331 - acc: 0.8101\n",
            "Epoch 66/100\n",
            "100000/100000 [==============================] - 10s 96us/step - loss: 0.5325 - acc: 0.8103\n",
            "Epoch 67/100\n",
            "100000/100000 [==============================] - 9s 95us/step - loss: 0.5313 - acc: 0.8103\n",
            "Epoch 68/100\n",
            "100000/100000 [==============================] - 9s 93us/step - loss: 0.5309 - acc: 0.8113\n",
            "Epoch 69/100\n",
            "100000/100000 [==============================] - 9s 92us/step - loss: 0.5306 - acc: 0.8103\n",
            "Epoch 70/100\n",
            "100000/100000 [==============================] - 9s 94us/step - loss: 0.5294 - acc: 0.8115\n",
            "Epoch 71/100\n",
            "100000/100000 [==============================] - 9s 94us/step - loss: 0.5286 - acc: 0.8118\n",
            "Epoch 72/100\n",
            "100000/100000 [==============================] - 9s 95us/step - loss: 0.5285 - acc: 0.8116\n",
            "Epoch 73/100\n",
            "100000/100000 [==============================] - 9s 95us/step - loss: 0.5277 - acc: 0.8112\n",
            "Epoch 74/100\n",
            "100000/100000 [==============================] - 9s 95us/step - loss: 0.5272 - acc: 0.8125\n",
            "Epoch 75/100\n",
            "100000/100000 [==============================] - 9s 94us/step - loss: 0.5265 - acc: 0.8127\n",
            "Epoch 76/100\n",
            "100000/100000 [==============================] - 9s 93us/step - loss: 0.5260 - acc: 0.8117\n",
            "Epoch 77/100\n",
            "100000/100000 [==============================] - 10s 96us/step - loss: 0.5255 - acc: 0.8124\n",
            "Epoch 78/100\n",
            "100000/100000 [==============================] - 9s 93us/step - loss: 0.5248 - acc: 0.8125\n",
            "Epoch 79/100\n",
            "100000/100000 [==============================] - 9s 94us/step - loss: 0.5244 - acc: 0.8126\n",
            "Epoch 80/100\n",
            "100000/100000 [==============================] - 9s 94us/step - loss: 0.5242 - acc: 0.8132\n",
            "Epoch 81/100\n",
            "100000/100000 [==============================] - 10s 95us/step - loss: 0.5235 - acc: 0.8129\n",
            "Epoch 82/100\n",
            "100000/100000 [==============================] - 9s 94us/step - loss: 0.5231 - acc: 0.8131\n",
            "Epoch 83/100\n",
            "100000/100000 [==============================] - 9s 95us/step - loss: 0.5226 - acc: 0.8139\n",
            "Epoch 84/100\n",
            "100000/100000 [==============================] - 10s 96us/step - loss: 0.5217 - acc: 0.8147\n",
            "Epoch 85/100\n",
            "100000/100000 [==============================] - 9s 94us/step - loss: 0.5218 - acc: 0.8144\n",
            "Epoch 86/100\n",
            "100000/100000 [==============================] - 10s 96us/step - loss: 0.5212 - acc: 0.8136\n",
            "Epoch 87/100\n",
            "100000/100000 [==============================] - 10s 96us/step - loss: 0.5209 - acc: 0.8140\n",
            "Epoch 88/100\n",
            "100000/100000 [==============================] - 10s 98us/step - loss: 0.5201 - acc: 0.8142\n",
            "Epoch 89/100\n",
            "100000/100000 [==============================] - 9s 93us/step - loss: 0.5202 - acc: 0.8143\n",
            "Epoch 90/100\n",
            "100000/100000 [==============================] - 10s 96us/step - loss: 0.5194 - acc: 0.8143\n",
            "Epoch 91/100\n",
            "100000/100000 [==============================] - 10s 95us/step - loss: 0.5187 - acc: 0.8145\n",
            "Epoch 92/100\n",
            "100000/100000 [==============================] - 10s 96us/step - loss: 0.5188 - acc: 0.8144\n",
            "Epoch 93/100\n",
            "100000/100000 [==============================] - 10s 98us/step - loss: 0.5179 - acc: 0.8150\n",
            "Epoch 94/100\n",
            "100000/100000 [==============================] - 10s 98us/step - loss: 0.5178 - acc: 0.8155\n",
            "Epoch 95/100\n",
            "100000/100000 [==============================] - 9s 95us/step - loss: 0.5172 - acc: 0.8155\n",
            "Epoch 96/100\n",
            "100000/100000 [==============================] - 9s 95us/step - loss: 0.5173 - acc: 0.8148\n",
            "Epoch 97/100\n",
            "100000/100000 [==============================] - 9s 94us/step - loss: 0.5168 - acc: 0.8146\n",
            "Epoch 98/100\n",
            "100000/100000 [==============================] - 9s 95us/step - loss: 0.5166 - acc: 0.8165\n",
            "Epoch 99/100\n",
            "100000/100000 [==============================] - 10s 97us/step - loss: 0.5165 - acc: 0.8155\n",
            "Epoch 100/100\n",
            "100000/100000 [==============================] - 9s 94us/step - loss: 0.5159 - acc: 0.8156\n"
          ],
          "name": "stdout"
        },
        {
          "output_type": "execute_result",
          "data": {
            "text/plain": [
              "<keras.callbacks.History at 0x7fdb6bc592b0>"
            ]
          },
          "metadata": {
            "tags": []
          },
          "execution_count": 20
        }
      ]
    },
    {
      "cell_type": "markdown",
      "metadata": {
        "id": "NJ4jFptKUWvn",
        "colab_type": "text"
      },
      "source": [
        "\n",
        "\n",
        "### step 3.2: LSTM\n",
        "\n",
        "#### step 3.2.1: import the required stuffs\n"
      ]
    },
    {
      "cell_type": "code",
      "metadata": {
        "id": "vl6Hh_KglTnB",
        "colab_type": "code",
        "colab": {}
      },
      "source": [
        "%matplotlib inline\n",
        "import pandas as pd\n",
        "import numpy as np\n",
        "\n",
        "from sklearn.model_selection import cross_val_predict\n",
        "from sklearn.model_selection import StratifiedKFold\n",
        "from sklearn.model_selection import train_test_split\n",
        "from sklearn.linear_model import LogisticRegression\n",
        "from sklearn.metrics import log_loss, accuracy_score\n",
        "from sklearn.feature_extraction.text import CountVectorizer\n",
        "from sklearn.feature_extraction.text import TfidfVectorizer\n",
        "from sklearn.svm import SVC\n",
        "from sklearn.decomposition import TruncatedSVD\n",
        "from sklearn.ensemble import RandomForestClassifier\n",
        "from sklearn.preprocessing import LabelEncoder\n",
        "\n",
        "import nltk\n",
        "\n",
        "from xgboost import XGBClassifier\n",
        "\n",
        "import os\n",
        "\n",
        "from keras.preprocessing.text import Tokenizer\n",
        "from keras.preprocessing.sequence import pad_sequences\n",
        "from keras.models import Sequential\n",
        "from keras.layers import Dense, Embedding, LSTM\n",
        "from keras.utils.np_utils import to_categorical\n",
        "from keras.callbacks import ModelCheckpoint\n",
        "from keras.models import load_model\n",
        "from keras.optimizers import Adam"
      ],
      "execution_count": 0,
      "outputs": []
    },
    {
      "cell_type": "markdown",
      "metadata": {
        "id": "Xde4w-Rexpeo",
        "colab_type": "text"
      },
      "source": [
        "Tokenization and embedding functions"
      ]
    },
    {
      "cell_type": "code",
      "metadata": {
        "id": "FfmK_qRFm81i",
        "colab_type": "code",
        "colab": {}
      },
      "source": [
        "class MyTokenizer:\n",
        "    def __init__(self):\n",
        "        pass\n",
        "    \n",
        "    def fit(self, X, y=None):\n",
        "        return self\n",
        "    \n",
        "    def transform(self, X):\n",
        "        transformed_X = []\n",
        "        for document in X:\n",
        "            tokenized_doc = []\n",
        "            for sent in nltk.sent_tokenize(document):\n",
        "                tokenized_doc += nltk.word_tokenize(sent)\n",
        "            transformed_X.append(np.array(tokenized_doc))\n",
        "        return np.array(transformed_X)\n",
        "    \n",
        "    def fit_transform(self, X, y=None):\n",
        "        return self.transform(X)\n",
        "\n",
        "class MeanEmbeddingVectorizer(object):\n",
        "    def __init__(self, word2vec):\n",
        "        self.word2vec = word2vec\n",
        "        # if a text is empty we should return a vector of zeros\n",
        "        # with the same dimensionality as all the other vectors\n",
        "        self.dim = len(word2vec.wv.syn0[0])\n",
        "\n",
        "    def fit(self, X, y=None):\n",
        "        return self\n",
        "\n",
        "    def transform(self, X):\n",
        "        X = MyTokenizer().fit_transform(X)\n",
        "        \n",
        "        return np.array([\n",
        "            np.mean([self.word2vec.wv[w] for w in words if w in self.word2vec.wv]\n",
        "                    or [np.zeros(self.dim)], axis=0)\n",
        "            for words in X\n",
        "        ])\n",
        "    \n",
        "    def fit_transform(self, X, y=None):\n",
        "        return self.transform(X)"
      ],
      "execution_count": 0,
      "outputs": []
    },
    {
      "cell_type": "markdown",
      "metadata": {
        "id": "eMyURb1_xoXw",
        "colab_type": "text"
      },
      "source": [
        "Build the LSTM model"
      ]
    },
    {
      "cell_type": "code",
      "metadata": {
        "id": "dwjsw9V-APPJ",
        "colab_type": "code",
        "outputId": "a7879307-df93-48a0-c1d4-d4744021f653",
        "colab": {
          "base_uri": "https://localhost:8080/",
          "height": 362
        }
      },
      "source": [
        "# Use the Keras tokenizer\n",
        "\n",
        "num_words = 18716 # the length of vocabulary\n",
        "tokenizer = Tokenizer(num_words=num_words)\n",
        "tokenizer.fit_on_texts(df_2w['Text'].values)\n",
        "\n",
        "# Pad the data \n",
        "X = tokenizer.texts_to_sequences(df_2w['Text'].values)\n",
        "X = pad_sequences(X, maxlen=1000)\n",
        "\n",
        "# Build out our simple LSTM\n",
        "embed_dim = 256\n",
        "lstm_out = 196\n",
        "\n",
        "# Model saving callback\n",
        "ckpt_callback = ModelCheckpoint('keras_model', \n",
        "                                 monitor='val_loss', \n",
        "                                 verbose=1, \n",
        "                                 save_best_only=True, \n",
        "                                 mode='auto')\n",
        "\n",
        "model = Sequential()\n",
        "model.add(Embedding(input_dim=18716, output_dim=256, input_length = 1000))\n",
        "model.add(Dropout(0.3))\n",
        "model.add(LSTM(256, recurrent_dropout=0.3, dropout=0.3))\n",
        "model.add(Dense(256,activation='relu'))\n",
        "model.add(Dropout(0.1))\n",
        "model.add(Dense(5,activation='softmax'))\n",
        "model.compile(loss = 'categorical_crossentropy', optimizer='adam', metrics = ['accuracy'])\n",
        "print(model.summary())\n"
      ],
      "execution_count": 0,
      "outputs": [
        {
          "output_type": "stream",
          "text": [
            "Model: \"sequential_3\"\n",
            "_________________________________________________________________\n",
            "Layer (type)                 Output Shape              Param #   \n",
            "=================================================================\n",
            "embedding_2 (Embedding)      (None, 1000, 256)         4791296   \n",
            "_________________________________________________________________\n",
            "dropout_3 (Dropout)          (None, 1000, 256)         0         \n",
            "_________________________________________________________________\n",
            "lstm_2 (LSTM)                (None, 256)               525312    \n",
            "_________________________________________________________________\n",
            "dense_6 (Dense)              (None, 256)               65792     \n",
            "_________________________________________________________________\n",
            "dropout_4 (Dropout)          (None, 256)               0         \n",
            "_________________________________________________________________\n",
            "dense_7 (Dense)              (None, 5)                 1285      \n",
            "=================================================================\n",
            "Total params: 5,383,685\n",
            "Trainable params: 5,383,685\n",
            "Non-trainable params: 0\n",
            "_________________________________________________________________\n",
            "None\n"
          ],
          "name": "stdout"
        }
      ]
    },
    {
      "cell_type": "markdown",
      "metadata": {
        "id": "tFhKeZCwx8aa",
        "colab_type": "text"
      },
      "source": [
        "split the data (both x and y) into train and test and check the shape of these 4 datasets"
      ]
    },
    {
      "cell_type": "code",
      "metadata": {
        "id": "EH-aPj5VqP4W",
        "colab_type": "code",
        "outputId": "c8f64a92-116f-40bd-b38f-6227211b10de",
        "colab": {
          "base_uri": "https://localhost:8080/",
          "height": 49
        }
      },
      "source": [
        "Y = pd.get_dummies(df_2w['Rate']).values\n",
        "X_train, X_test, Y_train, Y_test = train_test_split(X, Y, test_size = 0.2, random_state = 42, stratify=Y)\n",
        "print(X_train.shape, Y_train.shape)\n",
        "print(X_test.shape, Y_test.shape)"
      ],
      "execution_count": 0,
      "outputs": [
        {
          "output_type": "stream",
          "text": [
            "(80000, 1000) (80000, 5)\n",
            "(20000, 1000) (20000, 5)\n"
          ],
          "name": "stdout"
        }
      ]
    },
    {
      "cell_type": "markdown",
      "metadata": {
        "id": "fQO09bnKrWUj",
        "colab_type": "text"
      },
      "source": [
        "fit the model and see the performance"
      ]
    },
    {
      "cell_type": "code",
      "metadata": {
        "id": "phlYp16AqnyS",
        "colab_type": "code",
        "outputId": "ad12bb7d-da0f-45ce-9bac-809a5b00570d",
        "colab": {
          "base_uri": "https://localhost:8080/",
          "height": 378
        }
      },
      "source": [
        "batch_size = 512\n",
        "model.fit(X_train, Y_train, epochs=5, batch_size=batch_size, validation_split=0.2,callbacks=[ckpt_callback])"
      ],
      "execution_count": 0,
      "outputs": [
        {
          "output_type": "stream",
          "text": [
            "Train on 64000 samples, validate on 16000 samples\n",
            "Epoch 1/5\n",
            "64000/64000 [==============================] - 365s 6ms/step - loss: 0.7716 - acc: 0.7096 - val_loss: 0.4192 - val_acc: 0.8589\n",
            "\n",
            "Epoch 00001: val_loss improved from inf to 0.41923, saving model to keras_model\n",
            "Epoch 2/5\n",
            "64000/64000 [==============================] - 363s 6ms/step - loss: 0.3405 - acc: 0.8866 - val_loss: 0.3994 - val_acc: 0.8628\n",
            "\n",
            "Epoch 00002: val_loss improved from 0.41923 to 0.39943, saving model to keras_model\n",
            "Epoch 3/5\n",
            "64000/64000 [==============================] - 365s 6ms/step - loss: 0.2729 - acc: 0.9088 - val_loss: 0.4151 - val_acc: 0.8622\n",
            "\n",
            "Epoch 00003: val_loss did not improve from 0.39943\n",
            "Epoch 4/5\n",
            "64000/64000 [==============================] - 365s 6ms/step - loss: 0.2283 - acc: 0.9222 - val_loss: 0.4321 - val_acc: 0.8596\n",
            "\n",
            "Epoch 00004: val_loss did not improve from 0.39943\n",
            "Epoch 5/5\n",
            "64000/64000 [==============================] - 366s 6ms/step - loss: 0.2018 - acc: 0.9303 - val_loss: 0.4682 - val_acc: 0.8565\n",
            "\n",
            "Epoch 00005: val_loss did not improve from 0.39943\n"
          ],
          "name": "stdout"
        },
        {
          "output_type": "execute_result",
          "data": {
            "text/plain": [
              "<keras.callbacks.History at 0x7fd5fe45e160>"
            ]
          },
          "metadata": {
            "tags": []
          },
          "execution_count": 31
        }
      ]
    },
    {
      "cell_type": "markdown",
      "metadata": {
        "id": "A3WNH8NuT57U",
        "colab_type": "text"
      },
      "source": [
        "Load the model for tracking and training future"
      ]
    },
    {
      "cell_type": "code",
      "metadata": {
        "id": "CieCIXnk8Yub",
        "colab_type": "code",
        "colab": {}
      },
      "source": [
        "model = load_model('keras_model')"
      ],
      "execution_count": 0,
      "outputs": []
    },
    {
      "cell_type": "markdown",
      "metadata": {
        "id": "ZxF7KyGZT4mK",
        "colab_type": "text"
      },
      "source": [
        "Evaluate the model"
      ]
    },
    {
      "cell_type": "code",
      "metadata": {
        "id": "W-9DyDvHK29a",
        "colab_type": "code",
        "outputId": "d1d79404-0dd9-4371-e7f1-0e50180faaac",
        "colab": {
          "base_uri": "https://localhost:8080/",
          "height": 49
        }
      },
      "source": [
        "model.evaluate(X_test, Y_test)"
      ],
      "execution_count": 0,
      "outputs": [
        {
          "output_type": "stream",
          "text": [
            "20000/20000 [==============================] - 454s 23ms/step\n"
          ],
          "name": "stdout"
        },
        {
          "output_type": "execute_result",
          "data": {
            "text/plain": [
              "[0.38772718875408174, 0.8687]"
            ]
          },
          "metadata": {
            "tags": []
          },
          "execution_count": 33
        }
      ]
    },
    {
      "cell_type": "markdown",
      "metadata": {
        "id": "JXc5nn7PO2Et",
        "colab_type": "text"
      },
      "source": [
        "## Step 4: Influence of reviews' time \n",
        "In this step, we will try to find if there exist any connection betweeen time and rate of reviews. Maybe customer will tend to give lower rate in different time Take myself as example, I will tend to give bad feedback when I am upset and I usually feel upset before finals :("
      ]
    },
    {
      "cell_type": "markdown",
      "metadata": {
        "id": "0Qb7f2RwRtiU",
        "colab_type": "text"
      },
      "source": [
        "#### 4.1 Prepare the data for visualization\n",
        "\n",
        "In this part, we will do following steps:\n",
        "1. First, convert the raw data to timestrap\n",
        "2. Change the X, y into dataframe form\n",
        "3. Get two new columns, one is year for date and the other is month of date, and this will help us to easily figure out the distribution of the counts of rank by year and by month\n",
        "4. sort the dataframe so that we could see the start year of reviews and the end year of reviews\n"
      ]
    },
    {
      "cell_type": "code",
      "metadata": {
        "id": "1yzcn3otaT6B",
        "colab_type": "code",
        "outputId": "bace14d0-d10f-4497-a874-8d8605a43089",
        "colab": {
          "base_uri": "https://localhost:8080/",
          "height": 411
        }
      },
      "source": [
        "# convert the raw data to timestrap\n",
        "reviews_date = convert_times(reviews_times)\n",
        "\n",
        "# change the X, y into dataframe form#\n",
        "import pandas as pd\n",
        "d = {\"Rate\": y, \"Date\" : reviews_date}\n",
        "df = pd.DataFrame(d)\n",
        "\n",
        "# add two new columns(year, month)\n",
        "year_list = [date.year for date in reviews_date]\n",
        "month_list = [date.month for date in reviews_date]\n",
        "df.insert(2, \"Year\", year_list)\n",
        "df.insert(3, \"Month\", month_list)\n",
        "\n",
        "# show\n",
        "display(df)\n"
      ],
      "execution_count": 0,
      "outputs": [
        {
          "output_type": "display_data",
          "data": {
            "text/html": [
              "<div>\n",
              "<style scoped>\n",
              "    .dataframe tbody tr th:only-of-type {\n",
              "        vertical-align: middle;\n",
              "    }\n",
              "\n",
              "    .dataframe tbody tr th {\n",
              "        vertical-align: top;\n",
              "    }\n",
              "\n",
              "    .dataframe thead th {\n",
              "        text-align: right;\n",
              "    }\n",
              "</style>\n",
              "<table border=\"1\" class=\"dataframe\">\n",
              "  <thead>\n",
              "    <tr style=\"text-align: right;\">\n",
              "      <th></th>\n",
              "      <th>Rate</th>\n",
              "      <th>Date</th>\n",
              "      <th>Year</th>\n",
              "      <th>Month</th>\n",
              "    </tr>\n",
              "  </thead>\n",
              "  <tbody>\n",
              "    <tr>\n",
              "      <th>0</th>\n",
              "      <td>1</td>\n",
              "      <td>2012-05-06</td>\n",
              "      <td>2012</td>\n",
              "      <td>5</td>\n",
              "    </tr>\n",
              "    <tr>\n",
              "      <th>1</th>\n",
              "      <td>1</td>\n",
              "      <td>2014-04-07</td>\n",
              "      <td>2014</td>\n",
              "      <td>4</td>\n",
              "    </tr>\n",
              "    <tr>\n",
              "      <th>2</th>\n",
              "      <td>1</td>\n",
              "      <td>2012-07-17</td>\n",
              "      <td>2012</td>\n",
              "      <td>7</td>\n",
              "    </tr>\n",
              "    <tr>\n",
              "      <th>3</th>\n",
              "      <td>1</td>\n",
              "      <td>2014-07-14</td>\n",
              "      <td>2014</td>\n",
              "      <td>7</td>\n",
              "    </tr>\n",
              "    <tr>\n",
              "      <th>4</th>\n",
              "      <td>1</td>\n",
              "      <td>2013-05-16</td>\n",
              "      <td>2013</td>\n",
              "      <td>5</td>\n",
              "    </tr>\n",
              "    <tr>\n",
              "      <th>...</th>\n",
              "      <td>...</td>\n",
              "      <td>...</td>\n",
              "      <td>...</td>\n",
              "      <td>...</td>\n",
              "    </tr>\n",
              "    <tr>\n",
              "      <th>99995</th>\n",
              "      <td>5</td>\n",
              "      <td>2013-04-04</td>\n",
              "      <td>2013</td>\n",
              "      <td>4</td>\n",
              "    </tr>\n",
              "    <tr>\n",
              "      <th>99996</th>\n",
              "      <td>5</td>\n",
              "      <td>2010-09-21</td>\n",
              "      <td>2010</td>\n",
              "      <td>9</td>\n",
              "    </tr>\n",
              "    <tr>\n",
              "      <th>99997</th>\n",
              "      <td>5</td>\n",
              "      <td>2013-05-12</td>\n",
              "      <td>2013</td>\n",
              "      <td>5</td>\n",
              "    </tr>\n",
              "    <tr>\n",
              "      <th>99998</th>\n",
              "      <td>5</td>\n",
              "      <td>2013-03-05</td>\n",
              "      <td>2013</td>\n",
              "      <td>3</td>\n",
              "    </tr>\n",
              "    <tr>\n",
              "      <th>99999</th>\n",
              "      <td>5</td>\n",
              "      <td>2012-07-27</td>\n",
              "      <td>2012</td>\n",
              "      <td>7</td>\n",
              "    </tr>\n",
              "  </tbody>\n",
              "</table>\n",
              "<p>100000 rows × 4 columns</p>\n",
              "</div>"
            ],
            "text/plain": [
              "       Rate       Date  Year  Month\n",
              "0         1 2012-05-06  2012      5\n",
              "1         1 2014-04-07  2014      4\n",
              "2         1 2012-07-17  2012      7\n",
              "3         1 2014-07-14  2014      7\n",
              "4         1 2013-05-16  2013      5\n",
              "...     ...        ...   ...    ...\n",
              "99995     5 2013-04-04  2013      4\n",
              "99996     5 2010-09-21  2010      9\n",
              "99997     5 2013-05-12  2013      5\n",
              "99998     5 2013-03-05  2013      3\n",
              "99999     5 2012-07-27  2012      7\n",
              "\n",
              "[100000 rows x 4 columns]"
            ]
          },
          "metadata": {
            "tags": []
          }
        }
      ]
    },
    {
      "cell_type": "markdown",
      "metadata": {
        "id": "8cBYO0hDFXSm",
        "colab_type": "text"
      },
      "source": [
        "By sorting the data by column \"Date\", we could find that the reviews was started from 2001 and end in 2014"
      ]
    },
    {
      "cell_type": "code",
      "metadata": {
        "id": "4ZNXeP9wfO7O",
        "colab_type": "code",
        "outputId": "7411dab9-e746-48b4-eede-55b9af42936b",
        "colab": {
          "base_uri": "https://localhost:8080/",
          "height": 428
        }
      },
      "source": [
        "# sort the date \n",
        "df_sorted = df.sort_values(by='Date')\n",
        "display(df_sorted)\n",
        "# count the number of 2001 to check the sorted result\n",
        "sum_2001 = df.loc[df.Year == 2001, \"Year\"].count()\n",
        "print(sum_2001)"
      ],
      "execution_count": 0,
      "outputs": [
        {
          "output_type": "display_data",
          "data": {
            "text/html": [
              "<div>\n",
              "<style scoped>\n",
              "    .dataframe tbody tr th:only-of-type {\n",
              "        vertical-align: middle;\n",
              "    }\n",
              "\n",
              "    .dataframe tbody tr th {\n",
              "        vertical-align: top;\n",
              "    }\n",
              "\n",
              "    .dataframe thead th {\n",
              "        text-align: right;\n",
              "    }\n",
              "</style>\n",
              "<table border=\"1\" class=\"dataframe\">\n",
              "  <thead>\n",
              "    <tr style=\"text-align: right;\">\n",
              "      <th></th>\n",
              "      <th>Rate</th>\n",
              "      <th>Date</th>\n",
              "      <th>Year</th>\n",
              "      <th>Month</th>\n",
              "    </tr>\n",
              "  </thead>\n",
              "  <tbody>\n",
              "    <tr>\n",
              "      <th>34557</th>\n",
              "      <td>2</td>\n",
              "      <td>2001-07-17</td>\n",
              "      <td>2001</td>\n",
              "      <td>7</td>\n",
              "    </tr>\n",
              "    <tr>\n",
              "      <th>32949</th>\n",
              "      <td>2</td>\n",
              "      <td>2001-07-25</td>\n",
              "      <td>2001</td>\n",
              "      <td>7</td>\n",
              "    </tr>\n",
              "    <tr>\n",
              "      <th>26512</th>\n",
              "      <td>2</td>\n",
              "      <td>2001-08-24</td>\n",
              "      <td>2001</td>\n",
              "      <td>8</td>\n",
              "    </tr>\n",
              "    <tr>\n",
              "      <th>97988</th>\n",
              "      <td>5</td>\n",
              "      <td>2002-01-01</td>\n",
              "      <td>2002</td>\n",
              "      <td>1</td>\n",
              "    </tr>\n",
              "    <tr>\n",
              "      <th>5061</th>\n",
              "      <td>1</td>\n",
              "      <td>2002-01-05</td>\n",
              "      <td>2002</td>\n",
              "      <td>1</td>\n",
              "    </tr>\n",
              "    <tr>\n",
              "      <th>...</th>\n",
              "      <td>...</td>\n",
              "      <td>...</td>\n",
              "      <td>...</td>\n",
              "      <td>...</td>\n",
              "    </tr>\n",
              "    <tr>\n",
              "      <th>73698</th>\n",
              "      <td>4</td>\n",
              "      <td>2014-07-22</td>\n",
              "      <td>2014</td>\n",
              "      <td>7</td>\n",
              "    </tr>\n",
              "    <tr>\n",
              "      <th>80178</th>\n",
              "      <td>5</td>\n",
              "      <td>2014-07-22</td>\n",
              "      <td>2014</td>\n",
              "      <td>7</td>\n",
              "    </tr>\n",
              "    <tr>\n",
              "      <th>95901</th>\n",
              "      <td>5</td>\n",
              "      <td>2014-07-22</td>\n",
              "      <td>2014</td>\n",
              "      <td>7</td>\n",
              "    </tr>\n",
              "    <tr>\n",
              "      <th>89116</th>\n",
              "      <td>5</td>\n",
              "      <td>2014-07-23</td>\n",
              "      <td>2014</td>\n",
              "      <td>7</td>\n",
              "    </tr>\n",
              "    <tr>\n",
              "      <th>69294</th>\n",
              "      <td>4</td>\n",
              "      <td>2014-07-23</td>\n",
              "      <td>2014</td>\n",
              "      <td>7</td>\n",
              "    </tr>\n",
              "  </tbody>\n",
              "</table>\n",
              "<p>100000 rows × 4 columns</p>\n",
              "</div>"
            ],
            "text/plain": [
              "       Rate       Date  Year  Month\n",
              "34557     2 2001-07-17  2001      7\n",
              "32949     2 2001-07-25  2001      7\n",
              "26512     2 2001-08-24  2001      8\n",
              "97988     5 2002-01-01  2002      1\n",
              "5061      1 2002-01-05  2002      1\n",
              "...     ...        ...   ...    ...\n",
              "73698     4 2014-07-22  2014      7\n",
              "80178     5 2014-07-22  2014      7\n",
              "95901     5 2014-07-22  2014      7\n",
              "89116     5 2014-07-23  2014      7\n",
              "69294     4 2014-07-23  2014      7\n",
              "\n",
              "[100000 rows x 4 columns]"
            ]
          },
          "metadata": {
            "tags": []
          }
        },
        {
          "output_type": "stream",
          "text": [
            "3\n"
          ],
          "name": "stdout"
        }
      ]
    },
    {
      "cell_type": "markdown",
      "metadata": {
        "id": "tQXO0SFWCWpH",
        "colab_type": "text"
      },
      "source": [
        "###4.2 Visualization of the couts of reviews by month and year\n",
        "\n",
        "In this part, we did follwwing steps:\n",
        "1. Plot out the bar graph by year(x-axis) and the count of rates in corresponding year (y-axis)\n",
        "2. Plot out the bar graph by month(x-axis) and the count of rates in corresponding year (y-axis)\n",
        "3. In the beginning, we have uniform rating labels, 20000 for each rate(1, 2, 3, 4, 5). Therefore, we would like to see if there is some hints among years. For example, maybe people in the old days will be stricter with products and would give lower rate."
      ]
    },
    {
      "cell_type": "markdown",
      "metadata": {
        "id": "O5P3QdTZMFy7",
        "colab_type": "text"
      },
      "source": [
        "#### 4.2.1 Plot\n",
        "\n",
        "1. Counts of reviews' number by year"
      ]
    },
    {
      "cell_type": "code",
      "metadata": {
        "id": "T_tKFYMVvXPC",
        "colab_type": "code",
        "outputId": "46af76eb-3f81-4da0-e11e-e0ced33bbde4",
        "colab": {
          "base_uri": "https://localhost:8080/",
          "height": 310
        }
      },
      "source": [
        "groups_year = df.groupby(['Year']).size()\n",
        "groups_year.plot.bar()"
      ],
      "execution_count": 0,
      "outputs": [
        {
          "output_type": "execute_result",
          "data": {
            "text/plain": [
              "<matplotlib.axes._subplots.AxesSubplot at 0x7fd5fde836a0>"
            ]
          },
          "metadata": {
            "tags": []
          },
          "execution_count": 36
        },
        {
          "output_type": "display_data",
          "data": {
            "image/png": "[encoded data removed]",
            "text/plain": [
              "<Figure size 432x288 with 1 Axes>"
            ]
          },
          "metadata": {
            "tags": []
          }
        }
      ]
    },
    {
      "cell_type": "markdown",
      "metadata": {
        "id": "Bqznl3UzNCga",
        "colab_type": "text"
      },
      "source": [
        "2. Counts of reviews' numbers by with month"
      ]
    },
    {
      "cell_type": "code",
      "metadata": {
        "id": "-Praba5Tj2uc",
        "colab_type": "code",
        "outputId": "57ac3847-361c-4e16-8b85-a8f99552c09e",
        "colab": {
          "base_uri": "https://localhost:8080/",
          "height": 297
        }
      },
      "source": [
        "groups_year = df.groupby(['Month']).size()\n",
        "groups_year.plot.bar()"
      ],
      "execution_count": 0,
      "outputs": [
        {
          "output_type": "execute_result",
          "data": {
            "text/plain": [
              "<matplotlib.axes._subplots.AxesSubplot at 0x7fd5fd5cea58>"
            ]
          },
          "metadata": {
            "tags": []
          },
          "execution_count": 37
        },
        {
          "output_type": "display_data",
          "data": {
            "image/png": "[encoded data removed]",
            "text/plain": [
              "<Figure size 432x288 with 1 Axes>"
            ]
          },
          "metadata": {
            "tags": []
          }
        }
      ]
    },
    {
      "cell_type": "markdown",
      "metadata": {
        "id": "A4Svm2C2NHUq",
        "colab_type": "text"
      },
      "source": [
        "3. Check the distribution for different ratings after 2010"
      ]
    },
    {
      "cell_type": "code",
      "metadata": {
        "id": "CZE4NKkNkZBp",
        "colab_type": "code",
        "outputId": "5484f079-397a-455e-bf83-8e902f24b884",
        "colab": {
          "base_uri": "https://localhost:8080/",
          "height": 291
        }
      },
      "source": [
        "groups_rate_early = df[df[\"Year\"]> 2010].groupby(['Rate']).size()\n",
        "groups_rate_early.plot.bar()\n"
      ],
      "execution_count": 0,
      "outputs": [
        {
          "output_type": "execute_result",
          "data": {
            "text/plain": [
              "<matplotlib.axes._subplots.AxesSubplot at 0x7fd5fd5ce1d0>"
            ]
          },
          "metadata": {
            "tags": []
          },
          "execution_count": 38
        },
        {
          "output_type": "display_data",
          "data": {
            "image/png": "[encoded data removed]",
            "text/plain": [
              "<Figure size 432x288 with 1 Axes>"
            ]
          },
          "metadata": {
            "tags": []
          }
        }
      ]
    },
    {
      "cell_type": "markdown",
      "metadata": {
        "id": "W7reo4olStTZ",
        "colab_type": "text"
      },
      "source": [
        "4. check the distribution for different ratings befor 2010"
      ]
    },
    {
      "cell_type": "code",
      "metadata": {
        "id": "MMp4OpiOlThU",
        "colab_type": "code",
        "outputId": "d1112cbf-35ad-41c3-958a-853f305011c5",
        "colab": {
          "base_uri": "https://localhost:8080/",
          "height": 294
        }
      },
      "source": [
        "groups_rate_late = df[df[\"Year\"]<= 2010].groupby(['Rate']).size()\n",
        "groups_rate_late.plot.bar()"
      ],
      "execution_count": 0,
      "outputs": [
        {
          "output_type": "execute_result",
          "data": {
            "text/plain": [
              "<matplotlib.axes._subplots.AxesSubplot at 0x7fd5fd4cd5c0>"
            ]
          },
          "metadata": {
            "tags": []
          },
          "execution_count": 39
        },
        {
          "output_type": "display_data",
          "data": {
            "image/png": "[encoded data removed]",
            "text/plain": [
              "<Figure size 432x288 with 1 Axes>"
            ]
          },
          "metadata": {
            "tags": []
          }
        }
      ]
    },
    {
      "cell_type": "markdown",
      "metadata": {
        "id": "W7R5PhMCSsEx",
        "colab_type": "text"
      },
      "source": [
        "5. check the average ratings by year"
      ]
    },
    {
      "cell_type": "code",
      "metadata": {
        "id": "RPBLjNtjDcDK",
        "colab_type": "code",
        "outputId": "1e62a03f-a24a-470d-d58c-a02d57723771",
        "colab": {
          "base_uri": "https://localhost:8080/",
          "height": 310
        }
      },
      "source": [
        "df_year_averaged = df.groupby([\"Year\"]).mean()\n",
        "df_year_averaged[\"Rate\"].plot.bar()\n"
      ],
      "execution_count": 0,
      "outputs": [
        {
          "output_type": "execute_result",
          "data": {
            "text/plain": [
              "<matplotlib.axes._subplots.AxesSubplot at 0x7fd5fd521ef0>"
            ]
          },
          "metadata": {
            "tags": []
          },
          "execution_count": 40
        },
        {
          "output_type": "display_data",
          "data": {
            "image/png": "[encoded data removed]",
            "text/plain": [
              "<Figure size 432x288 with 1 Axes>"
            ]
          },
          "metadata": {
            "tags": []
          }
        }
      ]
    },
    {
      "cell_type": "markdown",
      "metadata": {
        "id": "dX4N6STdSq1q",
        "colab_type": "text"
      },
      "source": [
        "6. check the average ratings by month"
      ]
    },
    {
      "cell_type": "code",
      "metadata": {
        "id": "hM3BnlOXSCpz",
        "colab_type": "code",
        "outputId": "62ce8137-f032-4e0a-f543-3f568c5ea659",
        "colab": {
          "base_uri": "https://localhost:8080/",
          "height": 297
        }
      },
      "source": [
        "df_year_averaged = df.groupby([\"Month\"]).mean()\n",
        "df_year_averaged[\"Rate\"].plot.bar()"
      ],
      "execution_count": 0,
      "outputs": [
        {
          "output_type": "execute_result",
          "data": {
            "text/plain": [
              "<matplotlib.axes._subplots.AxesSubplot at 0x7fd5fd3d1208>"
            ]
          },
          "metadata": {
            "tags": []
          },
          "execution_count": 42
        },
        {
          "output_type": "display_data",
          "data": {
            "image/png": "[encoded data removed]",
            "text/plain": [
              "<Figure size 432x288 with 1 Axes>"
            ]
          },
          "metadata": {
            "tags": []
          }
        }
      ]
    },
    {
      "cell_type": "markdown",
      "metadata": {
        "id": "BuOzL3Pt95Xf",
        "colab_type": "text"
      },
      "source": [
        "From the plots above, we could find that the influence from different years might be larger than by different months. The reason is the total number of different ratings seems similar if we analysize it by month. Therefore, in the next part, we will try to add the year column to the previous dataset (the one with 1000 dimensions after PCA)"
      ]
    },
    {
      "cell_type": "markdown",
      "metadata": {
        "id": "_93IPvNGSxP5",
        "colab_type": "text"
      },
      "source": [
        "### 4.3 Add the year column into the training dataset\n",
        "\n",
        "From the analyse above, we could find that there does have influence from date, especially from year. Therefore, in the part, we will add the year information to the x dataset. To achieve this goal, we need to do:\n",
        "\n",
        "\n",
        "1.   standarize the year column\n",
        "2.   add the year column to the tfidf data\n",
        "3.   retrain the random forest model\n",
        "\n"
      ]
    },
    {
      "cell_type": "markdown",
      "metadata": {
        "id": "u1fgWF3q7QXh",
        "colab_type": "text"
      },
      "source": [
        "#### 4.3.1: standarize the year column"
      ]
    },
    {
      "cell_type": "code",
      "metadata": {
        "id": "wzLSu54xem3F",
        "colab_type": "code",
        "outputId": "45d7f39c-a34c-4fc8-fc63-2f24f7e0c52d",
        "colab": {
          "base_uri": "https://localhost:8080/",
          "height": 49
        }
      },
      "source": [
        "\n",
        "\n",
        "from sklearn import preprocessing\n",
        "df[[\"Year\"]] = preprocessing.StandardScaler().fit_transform(df[[\"Year\"]])\n",
        "x_year = df[\"Year\"].to_numpy()\n",
        "print(X.shape)\n",
        "print(x_year.shape)\n"
      ],
      "execution_count": 0,
      "outputs": [
        {
          "output_type": "stream",
          "text": [
            "(100000, 1000)\n",
            "(100000,)\n"
          ],
          "name": "stdout"
        }
      ]
    },
    {
      "cell_type": "markdown",
      "metadata": {
        "id": "TAB9hU597Xn6",
        "colab_type": "text"
      },
      "source": [
        "#### 4.3.2: add the year column to the TF-IDF data"
      ]
    },
    {
      "cell_type": "code",
      "metadata": {
        "id": "9rY1X9WG7K7d",
        "colab_type": "code",
        "outputId": "31ec3076-f323-4bc7-92b1-54ef21bb8d71",
        "colab": {
          "base_uri": "https://localhost:8080/",
          "height": 32
        }
      },
      "source": [
        "X_final = np.vstack((X.T, x_year.T)).T\n",
        "print(X_final.shape)"
      ],
      "execution_count": 0,
      "outputs": [
        {
          "output_type": "stream",
          "text": [
            "(100000, 1001)\n"
          ],
          "name": "stdout"
        }
      ]
    },
    {
      "cell_type": "markdown",
      "metadata": {
        "id": "bbcyZF2L7i4g",
        "colab_type": "text"
      },
      "source": [
        "#### 4.3.3: use the 1001 dimensions new data to retrain the best LSTMs model\n",
        "\n",
        "Since last time we use 2 epochs to get a pretty good model and the training after that did not improve any more, also, considering the time consuming, we would only train 3 epochs just for comparing the influence. Hope a good result :)\n",
        "\n"
      ]
    },
    {
      "cell_type": "code",
      "metadata": {
        "id": "1XGffg_Q7Lt5",
        "colab_type": "code",
        "outputId": "55f9618a-993e-4b2b-d4d2-262785cb8b8c",
        "colab": {
          "base_uri": "https://localhost:8080/",
          "height": 49
        }
      },
      "source": [
        "Y = pd.get_dummies(df_2w['Rate']).values\n",
        "from sklearn.model_selection import train_test_split\n",
        "X_train, X_test, Y_train, Y_test = train_test_split(X_final, Y, test_size = 0.2, random_state = 42, stratify=Y)\n",
        "print(X_train.shape, Y_train.shape)\n",
        "print(X_test.shape, Y_test.shape)"
      ],
      "execution_count": 0,
      "outputs": [
        {
          "output_type": "stream",
          "text": [
            "(80000, 1001) (80000, 5)\n",
            "(20000, 1001) (20000, 5)\n"
          ],
          "name": "stdout"
        }
      ]
    },
    {
      "cell_type": "code",
      "metadata": {
        "id": "_3i2W5s3mCdt",
        "colab_type": "code",
        "outputId": "02f663ad-2fc8-43b3-cad7-2c0cc9dff4a0",
        "colab": {
          "base_uri": "https://localhost:8080/",
          "height": 362
        }
      },
      "source": [
        "# Use the Keras tokenizer\n",
        "\n",
        "num_words = 18716 # the length of vocabulary\n",
        "tokenizer = Tokenizer(num_words=num_words)\n",
        "tokenizer.fit_on_texts(df_2w['Text'].values)\n",
        "\n",
        "# Pad the data \n",
        "X = tokenizer.texts_to_sequences(df_2w['Text'].values)\n",
        "X = pad_sequences(X, maxlen=1000)\n",
        "\n",
        "# Build out our simple LSTM\n",
        "embed_dim = 256\n",
        "lstm_out = 196\n",
        "\n",
        "# Model saving callback\n",
        "ckpt_callback = ModelCheckpoint('keras_model', \n",
        "                                 monitor='val_loss', \n",
        "                                 verbose=1, \n",
        "                                 save_best_only=True, \n",
        "                                 mode='auto')\n",
        "\n",
        "model2 = Sequential()\n",
        "model2.add(Embedding(input_dim=18716, output_dim=256, input_length = 1001))\n",
        "model2.add(Dropout(0.3))\n",
        "model2.add(LSTM(256, recurrent_dropout=0.3, dropout=0.3))\n",
        "model2.add(Dense(256,activation='relu'))\n",
        "model2.add(Dropout(0.1))\n",
        "model2.add(Dense(5,activation='softmax'))\n",
        "model2.compile(loss = 'categorical_crossentropy', optimizer='adam', metrics = ['accuracy'])\n",
        "print(model2.summary())\n"
      ],
      "execution_count": 0,
      "outputs": [
        {
          "output_type": "stream",
          "text": [
            "Model: \"sequential_7\"\n",
            "_________________________________________________________________\n",
            "Layer (type)                 Output Shape              Param #   \n",
            "=================================================================\n",
            "embedding_6 (Embedding)      (None, 1001, 256)         4791296   \n",
            "_________________________________________________________________\n",
            "dropout_11 (Dropout)         (None, 1001, 256)         0         \n",
            "_________________________________________________________________\n",
            "lstm_6 (LSTM)                (None, 256)               525312    \n",
            "_________________________________________________________________\n",
            "dense_14 (Dense)             (None, 256)               65792     \n",
            "_________________________________________________________________\n",
            "dropout_12 (Dropout)         (None, 256)               0         \n",
            "_________________________________________________________________\n",
            "dense_15 (Dense)             (None, 5)                 1285      \n",
            "=================================================================\n",
            "Total params: 5,383,685\n",
            "Trainable params: 5,383,685\n",
            "Non-trainable params: 0\n",
            "_________________________________________________________________\n",
            "None\n"
          ],
          "name": "stdout"
        }
      ]
    },
    {
      "cell_type": "code",
      "metadata": {
        "id": "BI8XVVZ3mkkL",
        "colab_type": "code",
        "outputId": "18f57558-8c8d-4664-aa72-1e2a23735b3e",
        "colab": {
          "base_uri": "https://localhost:8080/",
          "height": 247
        }
      },
      "source": [
        "batch_size = 512\n",
        "model2.fit(X_train, Y_train, epochs=3, batch_size=batch_size, validation_split=0.2,callbacks=[ckpt_callback])"
      ],
      "execution_count": 0,
      "outputs": [
        {
          "output_type": "stream",
          "text": [
            "Train on 64000 samples, validate on 16000 samples\n",
            "Epoch 1/3\n",
            "64000/64000 [==============================] - 381s 6ms/step - loss: 1.6065 - acc: 0.2123 - val_loss: 1.5978 - val_acc: 0.2204\n",
            "\n",
            "Epoch 00001: val_loss improved from inf to 1.59781, saving model to keras_model\n",
            "Epoch 2/3\n",
            "64000/64000 [==============================] - 378s 6ms/step - loss: 1.5972 - acc: 0.2299 - val_loss: 1.5956 - val_acc: 0.2368\n",
            "\n",
            "Epoch 00002: val_loss improved from 1.59781 to 1.59563, saving model to keras_model\n",
            "Epoch 3/3\n",
            "64000/64000 [==============================] - 384s 6ms/step - loss: 1.5963 - acc: 0.2333 - val_loss: 1.5951 - val_acc: 0.2368\n",
            "\n",
            "Epoch 00003: val_loss improved from 1.59563 to 1.59507, saving model to keras_model\n"
          ],
          "name": "stdout"
        },
        {
          "output_type": "execute_result",
          "data": {
            "text/plain": [
              "<keras.callbacks.History at 0x7fd5fc73c2b0>"
            ]
          },
          "metadata": {
            "tags": []
          },
          "execution_count": 65
        }
      ]
    },
    {
      "cell_type": "code",
      "metadata": {
        "id": "oKBq1D3Cnehi",
        "colab_type": "code",
        "colab": {}
      },
      "source": [
        "model2 = load_model('keras_model')"
      ],
      "execution_count": 0,
      "outputs": []
    },
    {
      "cell_type": "code",
      "metadata": {
        "id": "LjHr0t4vnf7y",
        "colab_type": "code",
        "outputId": "c592b41a-3861-4faf-bb7b-d111613b41ee",
        "colab": {
          "base_uri": "https://localhost:8080/",
          "height": 49
        }
      },
      "source": [
        "model2.evaluate(X_test, Y_test)"
      ],
      "execution_count": 0,
      "outputs": [
        {
          "output_type": "stream",
          "text": [
            "20000/20000 [==============================] - 462s 23ms/step\n"
          ],
          "name": "stdout"
        },
        {
          "output_type": "execute_result",
          "data": {
            "text/plain": [
              "[1.5934274448394776, 0.2377]"
            ]
          },
          "metadata": {
            "tags": []
          },
          "execution_count": 67
        }
      ]
    },
    {
      "cell_type": "markdown",
      "metadata": {
        "id": "9Kmrs3HR7MaN",
        "colab_type": "text"
      },
      "source": [
        "Unfortunately, the result did not improve the model and this seems the year was not improtant as we thought. Another reason for this might be the distribution is imbalanced. For example, people bought more things recent years. "
      ]
    },
    {
      "cell_type": "markdown",
      "metadata": {
        "id": "DTO4gyKjwsmn",
        "colab_type": "text"
      },
      "source": [
        "##Summary:\n",
        "\n",
        "The aim of this project was to do some quick exploration of the dataset and apply some common ML techniques to the classification task and see which one might have the best accuracy in test dataset.\n",
        "\n",
        "A big part of the problem is to teach an ML model how to \"read\" reviews literature and classify the given reviews' content and reviews' time into 1 out of 5 rating classes.\n",
        "\n",
        "After preparing necessary methods and data in section 0. In the first part of this project, we inherit the Random Forest model from the hw4 and try to improving it by doing more hyperparameter tunning. However, this idea didn't work well and improve the accuracy.\n",
        "\n",
        "Thus, the second part of this notebook focused on applying common techniques in ML totrain and predict reviews' eatings and evaluate their effectiveness by evalauting their accuracy. However, all the results did not show much improvement.\n",
        "\n",
        "\n",
        "> The classifiers used, from least effective to most effective, were: Logistic Regression > AdaBoost Classifier > Gaussian Naive Bayes\n",
        "\n",
        "\n",
        "\n",
        "\n",
        "Because the above approaches did not take into account the seuqences in reviews' text, incluing the random forest, their accuracies seem not so good.\n",
        "\n",
        "In the third part of this notebook, we tried two neural networks. The first one is a simple NN and after 100 epochs, we found the accuracy did improvement (up to more than 81.5%) and which was a good promising direction. Then we built a more complex LSTM model, which is frequently used in text classification and got pretty high accuracy of *more than 86.87%.*\n",
        "\n",
        "In the last part of the notebook, after comparing the possible influence from year of date and month of date, I added the \"Year\" feature next to the previous 1000 features( the one we got after cutoff as 1000). I tried it on our best model LSTM, and found that the results did not improve and dropped. \n",
        "\n"
      ]
    }
  ]
}